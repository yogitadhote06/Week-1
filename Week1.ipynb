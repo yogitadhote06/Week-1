{
 "cells": [
  {
   "cell_type": "markdown",
   "id": "59471bba-77e0-4966-84e6-ce324e35fb4b",
   "metadata": {},
   "source": [
    "PROJECT TITLE:\n",
    "Carbon Dioxide Emmisions Prediction Rate"
   ]
  },
  {
   "cell_type": "markdown",
   "id": "17578486-a465-41d4-a5e3-6b93a1e44ed8",
   "metadata": {},
   "source": [
    "PROBLEM STATEMENT:\n",
    "Accurate prediction of CO₂ emission rates is critical for informing climate policy, optimizing energy strategies, and enhancing disaster preparedness. However, existing models often struggle with integrating real-time data, accounting for socio-economic variables, and adapting to regional disparities. This project aims to develop a robust, data-driven model to forecast CO₂ emission rates with higher precision, enabling proactive climate action and improved disaster management planning."
   ]
  },
  {
   "cell_type": "markdown",
   "id": "bbe18e62-ea7d-4316-8224-52bacd683b27",
   "metadata": {},
   "source": [
    "DESCRIPTION:\n",
    "This Project uses a dataset consisting of Carbon Dioxide emitted by different vehicles in a city (like Cannada).the model will focus on predicting CO2 emissions prediction rate so that rate could be taken into account for further processing for reducing CO2 emissions."
   ]
  },
  {
   "cell_type": "code",
   "execution_count": 7,
   "id": "6a70b63a-2604-4523-8510-586e43e6df62",
   "metadata": {},
   "outputs": [],
   "source": [
    "#Import Required Libraries\n",
    "import pandas as pd\n",
    "import numpy as np\n",
    "import matplotlib.pyplot as plt\n",
    "import seaborn as sns\n",
    "from sklearn.model_selection import train_test_split\n",
    "from sklearn.preprocessing import LabelEncoder, StandardScaler\n",
    "from sklearn.ensemble import RandomForestClassifier\n",
    "from sklearn.linear_model import LogisticRegression\n",
    "from sklearn.metrics import classification_report, confusion_matrix, accuracy_score\n",
    "from sklearn.model_selection import cross_val_score\n",
    "import joblib"
   ]
  },
  {
   "cell_type": "code",
   "execution_count": 8,
   "id": "9bcbbe90-dff8-4014-acb2-ca794e79fda7",
   "metadata": {},
   "outputs": [],
   "source": [
    "#Load the dataset\n",
    "df=pd.read_csv('C:/Users/HP/Downloads/CO2 Emissions_Canada.csv')"
   ]
  },
  {
   "cell_type": "code",
   "execution_count": 9,
   "id": "852cf92a-5e57-487d-80ca-133d271342f7",
   "metadata": {},
   "outputs": [
    {
     "name": "stdout",
     "output_type": "stream",
     "text": [
      "    Make       Model Vehicle Class  Engine Size(L)  Cylinders Transmission  \\\n",
      "0  ACURA         ILX       COMPACT             2.0          4          AS5   \n",
      "1  ACURA         ILX       COMPACT             2.4          4           M6   \n",
      "2  ACURA  ILX HYBRID       COMPACT             1.5          4          AV7   \n",
      "3  ACURA     MDX 4WD   SUV - SMALL             3.5          6          AS6   \n",
      "4  ACURA     RDX AWD   SUV - SMALL             3.5          6          AS6   \n",
      "\n",
      "  Fuel Type  Fuel Consumption City (L/100 km)  \\\n",
      "0         Z                               9.9   \n",
      "1         Z                              11.2   \n",
      "2         Z                               6.0   \n",
      "3         Z                              12.7   \n",
      "4         Z                              12.1   \n",
      "\n",
      "   Fuel Consumption Hwy (L/100 km)  Fuel Consumption Comb (L/100 km)  \\\n",
      "0                              6.7                               8.5   \n",
      "1                              7.7                               9.6   \n",
      "2                              5.8                               5.9   \n",
      "3                              9.1                              11.1   \n",
      "4                              8.7                              10.6   \n",
      "\n",
      "   Fuel Consumption Comb (mpg)  CO2 Emissions(g/km)  \n",
      "0                           33                  196  \n",
      "1                           29                  221  \n",
      "2                           48                  136  \n",
      "3                           25                  255  \n",
      "4                           27                  244  \n"
     ]
    }
   ],
   "source": [
    "#display first few rows\n",
    "print(df.head())"
   ]
  },
  {
   "cell_type": "code",
   "execution_count": 10,
   "id": "2812ea42-1fef-4593-b9d2-f71877fca5f6",
   "metadata": {},
   "outputs": [
    {
     "name": "stdout",
     "output_type": "stream",
     "text": [
      "Dataset Info:\n",
      "<class 'pandas.core.frame.DataFrame'>\n",
      "RangeIndex: 7385 entries, 0 to 7384\n",
      "Data columns (total 12 columns):\n",
      " #   Column                            Non-Null Count  Dtype  \n",
      "---  ------                            --------------  -----  \n",
      " 0   Make                              7385 non-null   object \n",
      " 1   Model                             7385 non-null   object \n",
      " 2   Vehicle Class                     7385 non-null   object \n",
      " 3   Engine Size(L)                    7385 non-null   float64\n",
      " 4   Cylinders                         7385 non-null   int64  \n",
      " 5   Transmission                      7385 non-null   object \n",
      " 6   Fuel Type                         7385 non-null   object \n",
      " 7   Fuel Consumption City (L/100 km)  7385 non-null   float64\n",
      " 8   Fuel Consumption Hwy (L/100 km)   7385 non-null   float64\n",
      " 9   Fuel Consumption Comb (L/100 km)  7385 non-null   float64\n",
      " 10  Fuel Consumption Comb (mpg)       7385 non-null   int64  \n",
      " 11  CO2 Emissions(g/km)               7385 non-null   int64  \n",
      "dtypes: float64(4), int64(3), object(5)\n",
      "memory usage: 692.5+ KB\n",
      "None\n"
     ]
    }
   ],
   "source": [
    "print(\"Dataset Info:\")\n",
    "print(df.info())"
   ]
  },
  {
   "cell_type": "code",
   "execution_count": 11,
   "id": "fd3ca131-3561-4ca5-b60c-82a4ce18a33e",
   "metadata": {},
   "outputs": [
    {
     "name": "stdout",
     "output_type": "stream",
     "text": [
      "       Engine Size(L)    Cylinders  Fuel Consumption City (L/100 km)  \\\n",
      "count     7385.000000  7385.000000                       7385.000000   \n",
      "mean         3.160068     5.615030                         12.556534   \n",
      "std          1.354170     1.828307                          3.500274   \n",
      "min          0.900000     3.000000                          4.200000   \n",
      "25%          2.000000     4.000000                         10.100000   \n",
      "50%          3.000000     6.000000                         12.100000   \n",
      "75%          3.700000     6.000000                         14.600000   \n",
      "max          8.400000    16.000000                         30.600000   \n",
      "\n",
      "       Fuel Consumption Hwy (L/100 km)  Fuel Consumption Comb (L/100 km)  \\\n",
      "count                      7385.000000                       7385.000000   \n",
      "mean                          9.041706                         10.975071   \n",
      "std                           2.224456                          2.892506   \n",
      "min                           4.000000                          4.100000   \n",
      "25%                           7.500000                          8.900000   \n",
      "50%                           8.700000                         10.600000   \n",
      "75%                          10.200000                         12.600000   \n",
      "max                          20.600000                         26.100000   \n",
      "\n",
      "       Fuel Consumption Comb (mpg)  CO2 Emissions(g/km)  \n",
      "count                  7385.000000          7385.000000  \n",
      "mean                     27.481652           250.584699  \n",
      "std                       7.231879            58.512679  \n",
      "min                      11.000000            96.000000  \n",
      "25%                      22.000000           208.000000  \n",
      "50%                      27.000000           246.000000  \n",
      "75%                      32.000000           288.000000  \n",
      "max                      69.000000           522.000000  \n"
     ]
    }
   ],
   "source": [
    "print(df.describe())"
   ]
  },
  {
   "cell_type": "code",
   "execution_count": 12,
   "id": "464d3441-d234-4ee1-8736-e800553ca742",
   "metadata": {},
   "outputs": [
    {
     "name": "stdout",
     "output_type": "stream",
     "text": [
      "\n",
      " Missing Values:\n",
      "Make                                0\n",
      "Model                               0\n",
      "Vehicle Class                       0\n",
      "Engine Size(L)                      0\n",
      "Cylinders                           0\n",
      "Transmission                        0\n",
      "Fuel Type                           0\n",
      "Fuel Consumption City (L/100 km)    0\n",
      "Fuel Consumption Hwy (L/100 km)     0\n",
      "Fuel Consumption Comb (L/100 km)    0\n",
      "Fuel Consumption Comb (mpg)         0\n",
      "CO2 Emissions(g/km)                 0\n",
      "dtype: int64\n"
     ]
    }
   ],
   "source": [
    "print(\"\\n Missing Values:\")\n",
    "print(df.isnull().sum())"
   ]
  },
  {
   "cell_type": "code",
   "execution_count": null,
   "id": "70e36fb4-0b43-4db9-a2cf-aac399ae8a40",
   "metadata": {},
   "outputs": [],
   "source": []
  }
 ],
 "metadata": {
  "kernelspec": {
   "display_name": "Python 3 (ipykernel)",
   "language": "python",
   "name": "python3"
  },
  "language_info": {
   "codemirror_mode": {
    "name": "ipython",
    "version": 3
   },
   "file_extension": ".py",
   "mimetype": "text/x-python",
   "name": "python",
   "nbconvert_exporter": "python",
   "pygments_lexer": "ipython3",
   "version": "3.13.5"
  }
 },
 "nbformat": 4,
 "nbformat_minor": 5
}
